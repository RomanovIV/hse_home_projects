{
  "nbformat": 4,
  "nbformat_minor": 0,
  "metadata": {
    "colab": {
      "name": "swap_fwd_opt.ipynb",
      "version": "0.3.2",
      "provenance": [],
      "collapsed_sections": []
    },
    "kernelspec": {
      "name": "python3",
      "display_name": "Python 3"
    }
  },
  "cells": [
    {
      "metadata": {
        "id": "LDqxSEjIA9-H",
        "colab_type": "code",
        "colab": {}
      },
      "cell_type": "code",
      "source": [
        "import pandas as pd\n",
        "import numpy as np\n",
        "import matplotlib.pyplot as plt\n",
        "from scipy import stats\n"
      ],
      "execution_count": 0,
      "outputs": []
    },
    {
      "metadata": {
        "id": "HSgZ7cDmTwMt",
        "colab_type": "text"
      },
      "cell_type": "markdown",
      "source": [
        "Загрузка данных"
      ]
    },
    {
      "metadata": {
        "id": "qqrE5jNBTmZx",
        "colab_type": "code",
        "colab": {}
      },
      "cell_type": "code",
      "source": [
        "def read_data(file, col_name):\n",
        "    df = pd.read_csv(file)\n",
        "    df.columns = [\"date\", col_name]\n",
        "    df[\"date\"] = pd.to_datetime(df[\"date\"], dayfirst=True)\n",
        "    df.sort_values(by=\"date\", inplace=True)\n",
        "    return df\n",
        "\n",
        "df = read_data(\"data/ruonia.csv\", \"r_hm\")\n",
        "df = df.merge(read_data(\"data/LIBOR USD.csv\", \"r_fr\"), on=\"date\", how=\"outer\")\n",
        "df = df.merge(read_data(\"data/usd_exch_rate.csv\", \"fx\"), on=\"date\", how=\"outer\")\n",
        "df.dropna(inplace=True)\n",
        "df[\"fx\"] = 1/df[\"fx\"]\n",
        "df[\"r_hm\"] = df[\"r_hm\"]/100\n",
        "df[\"r_fr\"] = df[\"r_fr\"]/100\n",
        "df.head()"
      ],
      "execution_count": 0,
      "outputs": []
    },
    {
      "metadata": {
        "id": "UL1a1oHPT7jG",
        "colab_type": "text"
      },
      "cell_type": "markdown",
      "source": [
        "Оценка матрицы ковариации и разложение Холецкого"
      ]
    },
    {
      "metadata": {
        "id": "ls96Lc-lTnda",
        "colab_type": "code",
        "colab": {}
      },
      "cell_type": "code",
      "source": [
        "from scipy.linalg import cholesky\n",
        "\n",
        "cov_mat = np.concatenate([\n",
        "    np.diff(df[\"r_hm\"])[:, None],\n",
        "    np.diff(df[\"r_fr\"])[:, None],\n",
        "    (np.diff(df[\"fx\"])/np.array(df[\"fx\"])[:-1])[:, None]\n",
        "], axis=1).T\n",
        "\n",
        "cov_mat = np.cov(cov_mat)\n",
        "chol = cholesky(cov_mat, lower=True)\n",
        "chol"
      ],
      "execution_count": 0,
      "outputs": []
    },
    {
      "metadata": {
        "id": "CY11Id5rUAVJ",
        "colab_type": "text"
      },
      "cell_type": "markdown",
      "source": [
        "Симуляция скоррелированных Винеровских процессов"
      ]
    },
    {
      "metadata": {
        "id": "N-B7FAx9UBsF",
        "colab_type": "code",
        "colab": {}
      },
      "cell_type": "code",
      "source": [
        "steps = 252*2\n",
        "n_sim = 100\n",
        "dt = 1/252\n",
        "\n",
        "dw = np.random.normal(size=(3,n_sim,steps))\n",
        "dw = np.tensordot(chol, dw, axes=1)"
      ],
      "execution_count": 0,
      "outputs": []
    },
    {
      "metadata": {
        "id": "YO-eG6iTUHWQ",
        "colab_type": "text"
      },
      "cell_type": "markdown",
      "source": [
        "Симуляция ставок и обменного курса"
      ]
    },
    {
      "metadata": {
        "id": "Sck83wXzUJ1y",
        "colab_type": "code",
        "colab": {}
      },
      "cell_type": "code",
      "source": [
        "def gen_Vasicek(dw, a, b, sigma, dt, steps, r0, n_sim):\n",
        "    r = np.zeros(shape=(n_sim, steps+1))\n",
        "    r[:,0] = r0\n",
        "    for i in range(1, steps+1):\n",
        "        r[:,i] = a*b*dt +(1-a*dt)*r[:,i-1] + sigma*dw[:,i-1]\n",
        "    return r[:,1:]\n",
        "\n",
        "def fx_simulate(dw, fx0, r_fr_sim, r_hm_sim, drift, sigma, dt, n_sim, steps):\n",
        "    \n",
        "    assert r_fr_sim.shape == (n_sim, steps)\n",
        "    assert r_hm_sim.shape == (n_sim, steps)\n",
        "    \n",
        "    dfx_fx = np.zeros(shape=(n_sim, steps+1))\n",
        "    dfx_fx[:,0] = fx0\n",
        "    \n",
        "    for i in range(1, steps+1):\n",
        "        dfx_fx[:,i] = (r_hm_sim[:,i-1] - r_fr_sim[:,i-1] + drift)*dt + sigma*dw[:,i-1] + 1\n",
        "    fx_sim = np.cumprod(dfx_fx, axis=1)\n",
        "    \n",
        "    return fx_sim[:,:]"
      ],
      "execution_count": 0,
      "outputs": []
    },
    {
      "metadata": {
        "id": "yyO88DQuUQD7",
        "colab_type": "code",
        "colab": {}
      },
      "cell_type": "code",
      "source": [
        "fx_start = 1/69.4706 # на 30.12.2018\n",
        "dt=1/252\n",
        "r_hm_params = {\"a\":0.3, \"b\":0.3/10, \"sigma\":0.03, \"dt\":dt, \"steps\":steps,\n",
        "               \"r0\":df[\"r_hm\"].tolist()[-1], \"n_sim\":n_sim}\n",
        "r_fr_params = {\"a\":0.063, \"b\":0.03/10, \"sigma\":0.0093, \"dt\":dt, \"steps\":steps,\n",
        "               \"r0\":df[\"r_fr\"].tolist()[-1], \"n_sim\":n_sim}\n",
        "fx_params = {\"drift\":0.015, \"sigma\":0.11, \"dt\":dt, \"steps\":steps, \"fx0\":fx_start, \"n_sim\":n_sim}"
      ],
      "execution_count": 0,
      "outputs": []
    },
    {
      "metadata": {
        "id": "gTYFNpRhURDm",
        "colab_type": "code",
        "colab": {}
      },
      "cell_type": "code",
      "source": [
        "r_hm_sim = gen_Vasicek(dw=dw[1,:,:], **r_hm_params)\n",
        "r_fr_sim = gen_Vasicek(dw=dw[2,:,:], **r_fr_params)\n",
        "r_hm_sim.shape"
      ],
      "execution_count": 0,
      "outputs": []
    },
    {
      "metadata": {
        "id": "CONCt7oyUWF1",
        "colab_type": "code",
        "colab": {}
      },
      "cell_type": "code",
      "source": [
        "df[\"r_hm\"].mean(), df[\"r_fr\"].mean()"
      ],
      "execution_count": 0,
      "outputs": []
    },
    {
      "metadata": {
        "id": "pciFGvGNbYFu",
        "colab_type": "code",
        "colab": {}
      },
      "cell_type": "code",
      "source": [
        "fx_sim = fx_simulate(dw=dw[2,:,:], r_hm_sim=r_hm_sim, r_fr_sim=r_fr_sim, **fx_params)"
      ],
      "execution_count": 0,
      "outputs": []
    },
    {
      "metadata": {
        "id": "5OegV5AuUhLN",
        "colab_type": "text"
      },
      "cell_type": "markdown",
      "source": [
        "Визуализация симуляций"
      ]
    },
    {
      "metadata": {
        "id": "N7I_unhJUYil",
        "colab_type": "code",
        "colab": {}
      },
      "cell_type": "code",
      "source": [
        "pd.DataFrame(r_hm_sim.T).plot()"
      ],
      "execution_count": 0,
      "outputs": []
    },
    {
      "metadata": {
        "id": "kxUubo76UdlF",
        "colab_type": "code",
        "colab": {}
      },
      "cell_type": "code",
      "source": [
        "pd.DataFrame(r_fr_sim.T).plot()"
      ],
      "execution_count": 0,
      "outputs": []
    },
    {
      "metadata": {
        "id": "vlFI0xHIUdv5",
        "colab_type": "code",
        "colab": {}
      },
      "cell_type": "code",
      "source": [
        "pd.DataFrame(data=fx_sim.T).plot()"
      ],
      "execution_count": 0,
      "outputs": []
    },
    {
      "metadata": {
        "id": "Yp5BNfagUO9c",
        "colab_type": "text"
      },
      "cell_type": "markdown",
      "source": [
        "Симулирование цен на каждый день"
      ]
    },
    {
      "metadata": {
        "id": "3WsSWuRTBBmZ",
        "colab_type": "code",
        "colab": {}
      },
      "cell_type": "code",
      "source": [
        "def gkm_value(S0, rd, rf, T, K=0.014, sigma=0.04, regime='put'):\n",
        "      ''' Valuation of European put/call option in Garman-Kohlhagen model.\n",
        "      Analytical formula.\n",
        "      Parameters\n",
        "      ==========\n",
        "      S0 : float\n",
        "      initial stock/index level\n",
        "      K : float\n",
        "      strike price\n",
        "      T : float\n",
        "      maturity date (in year fractions)\n",
        "      rd : float\n",
        "      domestic risk-free short rate\n",
        "      rf : float\n",
        "      foreign risk-free short rate\n",
        "      sigma : float\n",
        "      volatility factor\n",
        "      Returns\n",
        "      =======\n",
        "      value : float\n",
        "      present value of the European FX option\n",
        "      '''\n",
        "    \n",
        "      d1 = (np.log(S0 / K) + (rd - rf + 0.5 * sigma ** 2) * T) / (sigma * np.sqrt(T))\n",
        "      d2 = d1 - sigma * np.sqrt(T)\n",
        "      if regime=='put':\n",
        "        value = (K * np.exp(-rd * T)* stats.norm.cdf(-d2, 0.0, 1.0) - S0 * np.exp(-rf * T) * stats.norm.cdf(-d1, 0.0, 1.0))\n",
        "        return value\n",
        "      elif regime=='call':\n",
        "        value = (S0 * np.exp(-rf * T) * stats.norm.cdf(d1, 0.0, 1.0) - K * np.exp(-rd * T)* stats.norm.cdf(d2, 0.0, 1.0))\n",
        "        return value\n",
        "      else:\n",
        "        return None             \n"
      ],
      "execution_count": 0,
      "outputs": []
    },
    {
      "metadata": {
        "id": "XTTSfkwyYHZF",
        "colab_type": "code",
        "colab": {}
      },
      "cell_type": "code",
      "source": [
        "def forward_value(S0, rd, rf, T, K=0.015, N=10**5):\n",
        "    \"\"\" Форвардная цена, умноженная на номинал \n",
        "    rf : Безрисковая процентная ставка по иностранной валюте ( LIBOR)\n",
        "    rd : Безрисковая процентная ставка по домашней валюте ( RUONIA)\n",
        "    T : Количество лет \n",
        "    S0 :  Текущая цена (спот)\"\"\"\n",
        "    value = N * (S0 * np.exp((rd - rf) * T) - K) \n",
        "    \n",
        "    return value  "
      ],
      "execution_count": 0,
      "outputs": []
    },
    {
      "metadata": {
        "id": "m0hHKKHTYkF3",
        "colab_type": "code",
        "colab": {}
      },
      "cell_type": "code",
      "source": [
        "# здесь будет своп\n",
        "### YOUR CODE HERE ###"
      ],
      "execution_count": 0,
      "outputs": []
    },
    {
      "metadata": {
        "id": "VmiiYui8htDX",
        "colab_type": "code",
        "colab": {}
      },
      "cell_type": "code",
      "source": [
        "# здесь будет кривая бескупонной\n",
        "### YOUR CODE HERE ###\n",
        "\n",
        "# предположил, что называется r_zero\n",
        "# размерность (дата ставки(steps), на какой срок(steps))"
      ],
      "execution_count": 0,
      "outputs": []
    },
    {
      "metadata": {
        "id": "YWZVJeE5gmsW",
        "colab_type": "code",
        "colab": {}
      },
      "cell_type": "code",
      "source": [
        "def discount(St, r, t):\n",
        "    \"\"\" Дисконтирование стоимости актива\n",
        "    r : годовая ставка дисконтирования\n",
        "    t : количество лет\n",
        "    \"\"\"\n",
        "#     value = St / (1 + r)**t\n",
        "    value = St * np.exp(-r * t)\n",
        "    \n",
        "    return value"
      ],
      "execution_count": 0,
      "outputs": []
    },
    {
      "metadata": {
        "id": "SpjDAuj9ktjD",
        "colab_type": "text"
      },
      "cell_type": "markdown",
      "source": [
        "Считаем цены, дисконтируем"
      ]
    },
    {
      "metadata": {
        "id": "jIr7Lf_bYkVY",
        "colab_type": "code",
        "colab": {}
      },
      "cell_type": "code",
      "source": [
        "IR_swap = np.zeros((steps, n_sim))\n",
        "FX_fwd = np.zeros((steps, n_sim))\n",
        "FX_opt = np.zeros((steps, n_sim))\n",
        "\n",
        "IR_swap_disc = np.zeros((steps, n_sim))\n",
        "FX_fwd_disc = np.zeros((steps, n_sim))\n",
        "FX_opt_disc = np.zeros((steps, n_sim))\n",
        "\n",
        "for step in range(steps):\n",
        "    IR_swap[step] = ### YOUR CODE HERE ###\n",
        "    FX_fwd[step] = forward_value(fx_sim.T[step], r_hm_sim[step], r_fr_sim[step], 1-step/steps)\n",
        "    FX_opt[step] = gkm_value(fx_sim.T[step], r_hm_sim[step], r_fr_sim[step], 1-step/steps)\n",
        "    \n",
        "    IR_swap_disc[step] = discount(IR_swap[step], r_zero[step, steps-step], steps-step)\n",
        "    FX_fwd_disc[step] = discount(FX_fwd[step], r_zero[step, steps-step], steps-step)\n",
        "    FX_opt_disc[step] = discount(FX_opt[step], r_zero[step, steps-step], steps-step)"
      ],
      "execution_count": 0,
      "outputs": []
    },
    {
      "metadata": {
        "id": "1afajPq2kyPc",
        "colab_type": "text"
      },
      "cell_type": "markdown",
      "source": [
        "Считаем квантили, находим наибольший"
      ]
    },
    {
      "metadata": {
        "id": "4rMz81XKYkgw",
        "colab_type": "code",
        "colab": {}
      },
      "cell_type": "code",
      "source": [
        ""
      ],
      "execution_count": 0,
      "outputs": []
    },
    {
      "metadata": {
        "id": "iNNidVKDCjFT",
        "colab_type": "code",
        "colab": {}
      },
      "cell_type": "code",
      "source": [
        "  "
      ],
      "execution_count": 0,
      "outputs": []
    }
  ]
}