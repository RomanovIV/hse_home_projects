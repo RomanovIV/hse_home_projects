{
  "nbformat": 4,
  "nbformat_minor": 0,
  "metadata": {
    "colab": {
      "name": "time_series.ipynb",
      "version": "0.3.2",
      "provenance": []
    },
    "kernelspec": {
      "name": "python3",
      "display_name": "Python 3"
    }
  },
  "cells": [
    {
      "cell_type": "markdown",
      "metadata": {
        "id": "jmJ3COTujyOe",
        "colab_type": "text"
      },
      "source": [
        "### Описание:\n",
        "\n",
        "*   Данные представляют из себя один из показателей банковской деятельности\n",
        "*   Бремя выбора факторов, не завязанных на верменную структуру ряда, ложится на Вас\n",
        "*   Прогноз должен строится на следующий день\n",
        "*   Период рекалибровки выбирается вами\n",
        "\n",
        "### Подсказки\n",
        "\n",
        "*   Обратите внимание на макроэкономические индексы\n",
        "*   Обратите внимание на налоговый календарь\n",
        "*   Обратите внимание на сравнительный анализ банков-конкурентов\n",
        "\n",
        "### Итогом проекта должен быть пайплайн, содержащий:\n",
        "\n",
        "1.   Блок предобработки данных\n",
        "2.   Блок Feature Engineering\n",
        "3.   Блок Feature selection\n",
        "4.   Блок калибровки гиперпараметров"
      ]
    },
    {
      "cell_type": "code",
      "metadata": {
        "id": "fMkAOV4fTemM",
        "colab_type": "code",
        "colab": {}
      },
      "source": [
        "import numpy as np\n",
        "import pandas as pd\n",
        "import matplotlib.pyplot as plt\n",
        "\n",
        "import warnings\n",
        "warnings.filterwarnings(\"ignore\")"
      ],
      "execution_count": 0,
      "outputs": []
    },
    {
      "cell_type": "code",
      "metadata": {
        "id": "Y2MfAqpSeFrc",
        "colab_type": "code",
        "colab": {
          "base_uri": "https://localhost:8080/",
          "height": 397
        },
        "outputId": "b19ebb36-35bf-40be-d196-258a24fa8b7f"
      },
      "source": [
        "!wget https://raw.githubusercontent.com/RomanovIV/hse_home_projects/master/data/project_3_train+test.xlsx\n",
        "df = pd.read_excel('project_3_train+test.xlsx', names=['Date', 'Target'])\n",
        "print(df.shape)\n",
        "df.head()"
      ],
      "execution_count": 4,
      "outputs": [
        {
          "output_type": "stream",
          "text": [
            "--2019-05-23 20:55:18--  https://raw.githubusercontent.com/RomanovIV/hse_home_projects/master/data/project_3_train+test.xlsx\n",
            "Resolving raw.githubusercontent.com (raw.githubusercontent.com)... 151.101.0.133, 151.101.64.133, 151.101.128.133, ...\n",
            "Connecting to raw.githubusercontent.com (raw.githubusercontent.com)|151.101.0.133|:443... connected.\n",
            "HTTP request sent, awaiting response... 200 OK\n",
            "Length: 20198 (20K) [application/octet-stream]\n",
            "Saving to: ‘project_3_train+test.xlsx.2’\n",
            "\n",
            "\r          project_3   0%[                    ]       0  --.-KB/s               \rproject_3_train+tes 100%[===================>]  19.72K  --.-KB/s    in 0.01s   \n",
            "\n",
            "2019-05-23 20:55:18 (1.59 MB/s) - ‘project_3_train+test.xlsx.2’ saved [20198/20198]\n",
            "\n",
            "(477, 2)\n"
          ],
          "name": "stdout"
        },
        {
          "output_type": "execute_result",
          "data": {
            "text/html": [
              "<div>\n",
              "<style scoped>\n",
              "    .dataframe tbody tr th:only-of-type {\n",
              "        vertical-align: middle;\n",
              "    }\n",
              "\n",
              "    .dataframe tbody tr th {\n",
              "        vertical-align: top;\n",
              "    }\n",
              "\n",
              "    .dataframe thead th {\n",
              "        text-align: right;\n",
              "    }\n",
              "</style>\n",
              "<table border=\"1\" class=\"dataframe\">\n",
              "  <thead>\n",
              "    <tr style=\"text-align: right;\">\n",
              "      <th></th>\n",
              "      <th>Date</th>\n",
              "      <th>Target</th>\n",
              "    </tr>\n",
              "  </thead>\n",
              "  <tbody>\n",
              "    <tr>\n",
              "      <th>0</th>\n",
              "      <td>2017-01-09</td>\n",
              "      <td>0.627938</td>\n",
              "    </tr>\n",
              "    <tr>\n",
              "      <th>1</th>\n",
              "      <td>2017-01-10</td>\n",
              "      <td>0.238050</td>\n",
              "    </tr>\n",
              "    <tr>\n",
              "      <th>2</th>\n",
              "      <td>2017-01-11</td>\n",
              "      <td>0.057763</td>\n",
              "    </tr>\n",
              "    <tr>\n",
              "      <th>3</th>\n",
              "      <td>2017-01-12</td>\n",
              "      <td>1.119530</td>\n",
              "    </tr>\n",
              "    <tr>\n",
              "      <th>4</th>\n",
              "      <td>2017-01-13</td>\n",
              "      <td>0.074451</td>\n",
              "    </tr>\n",
              "  </tbody>\n",
              "</table>\n",
              "</div>"
            ],
            "text/plain": [
              "        Date    Target\n",
              "0 2017-01-09  0.627938\n",
              "1 2017-01-10  0.238050\n",
              "2 2017-01-11  0.057763\n",
              "3 2017-01-12  1.119530\n",
              "4 2017-01-13  0.074451"
            ]
          },
          "metadata": {
            "tags": []
          },
          "execution_count": 4
        }
      ]
    },
    {
      "cell_type": "code",
      "metadata": {
        "id": "4-dTPQB2eMZJ",
        "colab_type": "code",
        "colab": {
          "base_uri": "https://localhost:8080/",
          "height": 134
        },
        "outputId": "38998adb-3a55-48b0-9253-9df6ffe1e0ab"
      },
      "source": [
        "df.info()"
      ],
      "execution_count": 6,
      "outputs": [
        {
          "output_type": "stream",
          "text": [
            "<class 'pandas.core.frame.DataFrame'>\n",
            "RangeIndex: 477 entries, 0 to 476\n",
            "Data columns (total 2 columns):\n",
            "Date      477 non-null datetime64[ns]\n",
            "Target    477 non-null float64\n",
            "dtypes: datetime64[ns](1), float64(1)\n",
            "memory usage: 7.5 KB\n"
          ],
          "name": "stdout"
        }
      ]
    },
    {
      "cell_type": "code",
      "metadata": {
        "id": "N8Z22rAreowP",
        "colab_type": "code",
        "colab": {}
      },
      "source": [
        ""
      ],
      "execution_count": 0,
      "outputs": []
    }
  ]
}